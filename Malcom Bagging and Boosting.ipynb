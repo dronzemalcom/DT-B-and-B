{
 "cells": [
  {
   "cell_type": "markdown",
   "metadata": {},
   "source": [
    "# Machine Learning Assignment 2\n",
    "\n",
    "### Assignment Objective:\n",
    "\n",
    "In this assignment You will learn how to use all machine learning algorthms learned so far, this includes: KNN, Decision Tree, Random Forest (Bagging), Boosting (AdaBoost and XGBoost)\n",
    "\n",
    "The dataset is for predicting lung diseases. The target is the last column \"Level\" that is a discrete value 'Low', 'Medium', 'High'.\n",
    "\n",
    "Remember you want to find the best model that is a model where difference between training accuracy and testing accuracy are closest to each other."
   ]
  },
  {
   "cell_type": "markdown",
   "metadata": {},
   "source": [
    "## Import libraries:"
   ]
  },
  {
   "cell_type": "code",
   "execution_count": 10,
   "metadata": {},
   "outputs": [],
   "source": [
    "# Import all libraries needed here:\n",
    "import pandas as pd\n",
    "import numpy as np\n",
    "import matplotlib.pyplot as plt\n",
    "from sklearn.preprocessing import MinMaxScaler\n",
    "from sklearn.preprocessing import LabelEncoder\n",
    "from sklearn.model_selection import train_test_split\n",
    "from sklearn.neighbors import KNeighborsClassifier\n",
    "from sklearn.tree import DecisionTreeClassifier\n",
    "from sklearn.ensemble import RandomForestClassifier, AdaBoostClassifier\n",
    "import xgboost as xgb\n",
    "from sklearn.metrics import accuracy_score\n"
   ]
  },
  {
   "cell_type": "markdown",
   "metadata": {},
   "source": [
    "## Read your dataset"
   ]
  },
  {
   "cell_type": "code",
   "execution_count": 2,
   "metadata": {},
   "outputs": [
    {
     "name": "stdout",
     "output_type": "stream",
     "text": [
      "   index Patient Id  Age  Gender  Air Pollution  Alcohol use  Dust Allergy  \\\n",
      "0      0         P1   33       1              2            4             5   \n",
      "1      1        P10   17       1              3            1             5   \n",
      "2      2       P100   35       1              4            5             6   \n",
      "3      3      P1000   37       1              7            7             7   \n",
      "4      4       P101   46       1              6            8             7   \n",
      "\n",
      "   OccuPational Hazards  Genetic Risk  chronic Lung Disease  ...  Fatigue  \\\n",
      "0                     4             3                     2  ...        3   \n",
      "1                     3             4                     2  ...        1   \n",
      "2                     5             5                     4  ...        8   \n",
      "3                     7             6                     7  ...        4   \n",
      "4                     7             7                     6  ...        3   \n",
      "\n",
      "   Weight Loss  Shortness of Breath  Wheezing  Swallowing Difficulty  \\\n",
      "0            4                    2         2                      3   \n",
      "1            3                    7         8                      6   \n",
      "2            7                    9         2                      1   \n",
      "3            2                    3         1                      4   \n",
      "4            2                    4         1                      4   \n",
      "\n",
      "   Clubbing of Finger Nails  Frequent Cold  Dry Cough  Snoring   Level  \n",
      "0                         1              2          3        4     Low  \n",
      "1                         2              1          7        2  Medium  \n",
      "2                         4              6          7        2    High  \n",
      "3                         5              6          7        5    High  \n",
      "4                         2              4          2        3    High  \n",
      "\n",
      "[5 rows x 26 columns]\n"
     ]
    }
   ],
   "source": [
    "# Read dataset\n",
    "df = pd.read_csv('C:\\\\Users\\\\Patron\\\\Downloads\\\\cancer patient data sets.csv')\n",
    "print(df.head())\n"
   ]
  },
  {
   "cell_type": "markdown",
   "metadata": {},
   "source": [
    "## Convert target from Categorical to int code:\n",
    "The target variable is categorical values \"Low\", \"Medium\", \"High\". Convert the target from categorical to int coding using the LabelEncoder method. The target should be: 0 (means Low), 1 (means Medium), or 2 (means High)."
   ]
  },
  {
   "cell_type": "code",
   "execution_count": 6,
   "metadata": {},
   "outputs": [
    {
     "name": "stdout",
     "output_type": "stream",
     "text": [
      "0      1\n",
      "1      2\n",
      "2      0\n",
      "3      0\n",
      "4      0\n",
      "      ..\n",
      "995    0\n",
      "996    0\n",
      "997    0\n",
      "998    0\n",
      "999    0\n",
      "Name: Level, Length: 1000, dtype: int64\n"
     ]
    }
   ],
   "source": [
    "# Convert target variable from categorical to integer code\n",
    "label_encoder = LabelEncoder()\n",
    "df['Level'] = label_encoder.fit_transform(df['Level'])\n",
    "print(df['Level'])\n",
    "\n"
   ]
  },
  {
   "cell_type": "markdown",
   "metadata": {},
   "source": [
    "## Check for missing values"
   ]
  },
  {
   "cell_type": "code",
   "execution_count": 7,
   "metadata": {},
   "outputs": [
    {
     "name": "stdout",
     "output_type": "stream",
     "text": [
      "index                       0\n",
      "Patient Id                  0\n",
      "Age                         0\n",
      "Gender                      0\n",
      "Air Pollution               0\n",
      "Alcohol use                 0\n",
      "Dust Allergy                0\n",
      "OccuPational Hazards        0\n",
      "Genetic Risk                0\n",
      "chronic Lung Disease        0\n",
      "Balanced Diet               0\n",
      "Obesity                     0\n",
      "Smoking                     0\n",
      "Passive Smoker              0\n",
      "Chest Pain                  0\n",
      "Coughing of Blood           0\n",
      "Fatigue                     0\n",
      "Weight Loss                 0\n",
      "Shortness of Breath         0\n",
      "Wheezing                    0\n",
      "Swallowing Difficulty       0\n",
      "Clubbing of Finger Nails    0\n",
      "Frequent Cold               0\n",
      "Dry Cough                   0\n",
      "Snoring                     0\n",
      "Level                       0\n",
      "dtype: int64\n"
     ]
    }
   ],
   "source": [
    "# Check for missing values\n",
    "mv = df.isnull().sum()\n",
    "print(mv)"
   ]
  },
  {
   "cell_type": "markdown",
   "metadata": {},
   "source": [
    "## Check for outliers:"
   ]
  },
  {
   "cell_type": "code",
   "execution_count": 8,
   "metadata": {},
   "outputs": [
    {
     "data": {
      "image/png": "[encoded data removed]",
      "text/plain": [
       "<Figure size 640x480 with 1 Axes>"
      ]
     },
     "metadata": {},
     "output_type": "display_data"
    },
    {
     "name": "stdout",
     "output_type": "stream",
     "text": [
      "Good job no outliars detected\n"
     ]
    }
   ],
   "source": [
    "#Create the bixplot\n",
    "plt.boxplot(df['Level'])\n",
    "plt.xlabel('Level')\n",
    "plt.show()\n",
    "\n",
    "# get the quartiles and iqr\n",
    "Q1 = df['Level'].quantile(0.25)\n",
    "Q3 = df['Level'].quantile(0.75)\n",
    "IQR = Q3 - Q1\n",
    "\n",
    "#Establish cuttoffs\n",
    "low = Q1 - 1.5 * IQR\n",
    "up = Q3 + 1.5 * IQR\n",
    "\n",
    "# get the outliars\n",
    "outliers = df[(df['Level'] < low) | (df['Level'] > up)]\n",
    "if outliers.empty:\n",
    "   print(\"Good job no outliars detected\")\n",
    "else:\n",
    "   \n",
    "    print(outliers)\n",
    "\n",
    "    # Remove outliers from the dataset\n",
    "    cleanHeart = df.drop(outliers.index)\n",
    "\n"
   ]
  },
  {
   "cell_type": "markdown",
   "metadata": {},
   "source": [
    "## Data Scaling:"
   ]
  },
  {
   "cell_type": "code",
   "execution_count": 64,
   "metadata": {},
   "outputs": [],
   "source": [
    "#scaleMe = ['Level']\n",
    "\n",
    "#Dont skip this step\n",
    "#scaler = MinMaxScaler()\n",
    "\n",
    "\n",
    "# Dont skip this and create a copy so we dont mess up original data\n",
    "#scaled = df.copy()  \n",
    "#Scale the data\n",
    "##scaled[scaleMe] = scaler.fit_transform(scaled[scaleMe])\n",
    "\n",
    "#print(scaled) \n",
    "\n",
    "# Exclude non-numeric columns and columns that are not relevant for modeling\n",
    "numeric_data = df.drop(['Patient Id'], axis=1)\n",
    "\n",
    "# Scale only the numeric columns\n",
    "scaler = StandardScaler()\n",
    "data_scaled = scaler.fit_transform(numeric_data)\n"
   ]
  },
  {
   "cell_type": "markdown",
   "metadata": {},
   "source": [
    "## Extract features X and target y from the dataset:"
   ]
  },
  {
   "cell_type": "code",
   "execution_count": 66,
   "metadata": {},
   "outputs": [
    {
     "name": "stdout",
     "output_type": "stream",
     "text": [
      "0      1\n",
      "1      2\n",
      "2      0\n",
      "3      0\n",
      "4      0\n",
      "      ..\n",
      "995    0\n",
      "996    0\n",
      "997    0\n",
      "998    0\n",
      "999    0\n",
      "Name: Level, Length: 1000, dtype: int64\n"
     ]
    }
   ],
   "source": [
    "X = data_scaled\n",
    "y = df['Level']\n",
    "\n",
    "print(y)\n"
   ]
  },
  {
   "cell_type": "markdown",
   "metadata": {},
   "source": [
    "## Split X and y into X_train, X_test, y_train, y_test"
   ]
  },
  {
   "cell_type": "code",
   "execution_count": 67,
   "metadata": {},
   "outputs": [
    {
     "name": "stdout",
     "output_type": "stream",
     "text": [
      "521    2\n",
      "737    2\n",
      "740    2\n",
      "660    0\n",
      "411    2\n",
      "      ..\n",
      "408    2\n",
      "332    0\n",
      "208    0\n",
      "613    1\n",
      "78     2\n",
      "Name: Level, Length: 200, dtype: int64\n"
     ]
    }
   ],
   "source": [
    "X_train, X_test, y_train, y_test = train_test_split(X, y, test_size=0.2, random_state=42)\n",
    "print(y_test)\n"
   ]
  },
  {
   "cell_type": "markdown",
   "metadata": {},
   "source": [
    "## KNN:\n",
    "Use KNN and find the best K-neighbor value:"
   ]
  },
  {
   "cell_type": "code",
   "execution_count": 69,
   "metadata": {},
   "outputs": [
    {
     "name": "stdout",
     "output_type": "stream",
     "text": [
      "KNN with k = 1 has Accuracy: 1.0\n",
      "KNN with k = 2 has Accuracy: 1.0\n",
      "KNN with k = 3 has Accuracy: 1.0\n",
      "KNN with k = 4 has Accuracy: 1.0\n",
      "KNN with k = 5 has Accuracy: 1.0\n",
      "KNN with k = 6 has Accuracy: 1.0\n",
      "KNN with k = 7 has Accuracy: 1.0\n",
      "KNN with k = 8 has Accuracy: 1.0\n",
      "KNN with k = 9 has Accuracy: 1.0\n",
      "KNN with k = 10 has Accuracy: 1.0\n",
      "KNN with k = 11 has Accuracy: 1.0\n",
      "KNN with k = 12 has Accuracy: 1.0\n",
      "KNN with k = 13 has Accuracy: 0.98\n",
      "KNN with k = 14 has Accuracy: 0.98\n",
      "KNN with k = 15 has Accuracy: 0.98\n",
      "KNN with k = 16 has Accuracy: 0.98\n",
      "KNN with k = 17 has Accuracy: 0.98\n",
      "KNN with k = 18 has Accuracy: 0.975\n",
      "KNN with k = 19 has Accuracy: 0.975\n",
      "KNN with k = 20 has Accuracy: 0.975\n",
      "KNN with k = 21 has Accuracy: 0.975\n",
      "KNN with k = 22 has Accuracy: 0.975\n",
      "KNN with k = 23 has Accuracy: 0.975\n",
      "KNN with k = 24 has Accuracy: 0.975\n",
      "KNN with k = 25 has Accuracy: 0.975\n",
      "KNN with k = 26 has Accuracy: 0.975\n",
      "KNN with k = 27 has Accuracy: 0.975\n",
      "KNN with k = 28 has Accuracy: 0.975\n",
      "KNN with k = 29 has Accuracy: 0.975\n",
      "KNN with k = 30 has Accuracy: 0.975\n",
      "KNN with k = 31 has Accuracy: 0.965\n",
      "KNN with k = 32 has Accuracy: 0.97\n",
      "KNN with k = 33 has Accuracy: 0.955\n",
      "KNN with k = 34 has Accuracy: 0.955\n",
      "KNN with k = 35 has Accuracy: 0.955\n",
      "KNN with k = 36 has Accuracy: 0.95\n",
      "KNN with k = 37 has Accuracy: 0.95\n",
      "KNN with k = 38 has Accuracy: 0.95\n",
      "KNN with k = 39 has Accuracy: 0.955\n",
      "KNN with k = 40 has Accuracy: 0.95\n",
      "KNN with k = 41 has Accuracy: 0.95\n",
      "KNN with k = 42 has Accuracy: 0.945\n",
      "KNN with k = 43 has Accuracy: 0.95\n",
      "KNN with k = 44 has Accuracy: 0.945\n",
      "KNN with k = 45 has Accuracy: 0.945\n",
      "KNN with k = 46 has Accuracy: 0.945\n",
      "KNN with k = 47 has Accuracy: 0.945\n",
      "KNN with k = 48 has Accuracy: 0.945\n",
      "KNN with k = 49 has Accuracy: 0.95\n",
      "KNN with k = 50 has Accuracy: 0.945\n",
      "KNN with k = 51 has Accuracy: 0.95\n",
      "KNN with k = 52 has Accuracy: 0.95\n",
      "KNN with k = 53 has Accuracy: 0.95\n",
      "KNN with k = 54 has Accuracy: 0.95\n",
      "KNN with k = 55 has Accuracy: 0.955\n",
      "KNN with k = 56 has Accuracy: 0.95\n",
      "KNN with k = 57 has Accuracy: 0.95\n",
      "KNN with k = 58 has Accuracy: 0.955\n"
     ]
    }
   ],
   "source": [
    "# KNN\n",
    "k_values = [3, 5, 7, 9, 11]  # Define the values of k to test\n",
    "\n",
    "for k in range(1, 59):\n",
    "    knn = KNeighborsClassifier(n_neighbors=k)\n",
    "    knn.fit(X_train, y_train)\n",
    "    y_pred = knn.predict(X_test)\n",
    "    accuracy = accuracy_score(y_test, y_pred)\n",
    "    print('KNN with k =', k, 'has Accuracy:', accuracy)\n"
   ]
  },
  {
   "cell_type": "markdown",
   "metadata": {},
   "source": [
    "## Decision Tree\n",
    "Use decision tree and find the best max depth value:"
   ]
  },
  {
   "cell_type": "code",
   "execution_count": 70,
   "metadata": {},
   "outputs": [
    {
     "name": "stdout",
     "output_type": "stream",
     "text": [
      "Decision Tree with max depth=3 - Accuracy: 1.0\n",
      "Decision Tree with max depth=5 - Accuracy: 1.0\n",
      "Decision Tree with max depth=7 - Accuracy: 1.0\n",
      "Decision Tree with max depth=9 - Accuracy: 1.0\n"
     ]
    }
   ],
   "source": [
    "# Decision Tree\n",
    "max_depth_values = [3, 5, 7, 9]\n",
    "for depth in max_depth_values:\n",
    "    dt = DecisionTreeClassifier(max_depth=depth)\n",
    "    dt.fit(X_train, y_train)\n",
    "    y_pred = dt.predict(X_test)\n",
    "    accuracy = accuracy_score(y_test, y_pred)\n",
    "    print(f'Decision Tree with max depth={depth} - Accuracy: {accuracy}')\n"
   ]
  },
  {
   "cell_type": "markdown",
   "metadata": {},
   "source": [
    "## Random Forest:\n",
    "Use random forest to find the best number of estimators and max depth:"
   ]
  },
  {
   "cell_type": "code",
   "execution_count": 71,
   "metadata": {},
   "outputs": [
    {
     "name": "stdout",
     "output_type": "stream",
     "text": [
      "Random Forest with n_estimators=50 and max depth=3 - Accuracy: 1.0\n",
      "Random Forest with n_estimators=50 and max depth=5 - Accuracy: 1.0\n",
      "Random Forest with n_estimators=50 and max depth=7 - Accuracy: 1.0\n",
      "Random Forest with n_estimators=100 and max depth=3 - Accuracy: 1.0\n",
      "Random Forest with n_estimators=100 and max depth=5 - Accuracy: 1.0\n",
      "Random Forest with n_estimators=100 and max depth=7 - Accuracy: 1.0\n",
      "Random Forest with n_estimators=150 and max depth=3 - Accuracy: 1.0\n",
      "Random Forest with n_estimators=150 and max depth=5 - Accuracy: 1.0\n",
      "Random Forest with n_estimators=150 and max depth=7 - Accuracy: 1.0\n"
     ]
    }
   ],
   "source": [
    "# Random Forest\n",
    "n_estimators_values = [50, 100, 150]\n",
    "max_depth_values = [3, 5, 7]\n",
    "for n_estimators in n_estimators_values:\n",
    "    for depth in max_depth_values:\n",
    "        rf = RandomForestClassifier(n_estimators=n_estimators, max_depth=depth)\n",
    "        rf.fit(X_train, y_train)\n",
    "        y_pred = rf.predict(X_test)\n",
    "        accuracy = accuracy_score(y_test, y_pred)\n",
    "        print(f'Random Forest with n_estimators={n_estimators} and max depth={depth} - Accuracy: {accuracy}')\n"
   ]
  },
  {
   "cell_type": "markdown",
   "metadata": {},
   "source": [
    "## AdaBoost\n",
    "Use AdaBoost with none in the estimator parameter to find the best value for number of estimators. Use learning_rate = 0.01, Check the website: https://scikit-learn.org/stable/modules/generated/sklearn.ensemble.AdaBoostClassifier.html\n"
   ]
  },
  {
   "cell_type": "code",
   "execution_count": 72,
   "metadata": {},
   "outputs": [
    {
     "name": "stderr",
     "output_type": "stream",
     "text": [
      "c:\\Users\\Patron\\AppData\\Local\\Programs\\Python\\Python312\\Lib\\site-packages\\sklearn\\ensemble\\_weight_boosting.py:519: FutureWarning: The SAMME.R algorithm (the default) is deprecated and will be removed in 1.6. Use the SAMME algorithm to circumvent this warning.\n",
      "  warnings.warn(\n",
      "c:\\Users\\Patron\\AppData\\Local\\Programs\\Python\\Python312\\Lib\\site-packages\\sklearn\\ensemble\\_weight_boosting.py:519: FutureWarning: The SAMME.R algorithm (the default) is deprecated and will be removed in 1.6. Use the SAMME algorithm to circumvent this warning.\n",
      "  warnings.warn(\n"
     ]
    },
    {
     "name": "stdout",
     "output_type": "stream",
     "text": [
      "AdaBoost with n_estimators=50 - Accuracy: 1.0\n",
      "AdaBoost with n_estimators=100 - Accuracy: 1.0\n"
     ]
    },
    {
     "name": "stderr",
     "output_type": "stream",
     "text": [
      "c:\\Users\\Patron\\AppData\\Local\\Programs\\Python\\Python312\\Lib\\site-packages\\sklearn\\ensemble\\_weight_boosting.py:519: FutureWarning: The SAMME.R algorithm (the default) is deprecated and will be removed in 1.6. Use the SAMME algorithm to circumvent this warning.\n",
      "  warnings.warn(\n"
     ]
    },
    {
     "name": "stdout",
     "output_type": "stream",
     "text": [
      "AdaBoost with n_estimators=150 - Accuracy: 1.0\n"
     ]
    }
   ],
   "source": [
    "# AdaBoost\n",
    "n_estimators_values = [50, 100, 150]\n",
    "for n_estimators in n_estimators_values:\n",
    "    ada = AdaBoostClassifier(n_estimators=n_estimators, learning_rate=0.01)\n",
    "    ada.fit(X_train, y_train)\n",
    "    y_pred = ada.predict(X_test)\n",
    "    accuracy = accuracy_score(y_test, y_pred)\n",
    "    print(f'AdaBoost with n_estimators={n_estimators} - Accuracy: {accuracy}')\n"
   ]
  },
  {
   "cell_type": "markdown",
   "metadata": {},
   "source": [
    "## XGBoost:\n",
    "Use the slides that uses XGBoost. To install XGBoost, use: pip install xgboost\n",
    "\n"
   ]
  },
  {
   "cell_type": "code",
   "execution_count": 73,
   "metadata": {},
   "outputs": [
    {
     "name": "stdout",
     "output_type": "stream",
     "text": [
      "XGBoost - Accuracy: 1.0\n"
     ]
    }
   ],
   "source": [
    "# XGBoost\n",
    "model = xgb.XGBClassifier()\n",
    "model.fit(X_train, y_train)\n",
    "y_pred = model.predict(X_test)\n",
    "accuracy = accuracy_score(y_test, y_pred)\n",
    "print(f'XGBoost - Accuracy: {accuracy}')\n"
   ]
  }
 ],
 "metadata": {
  "kernelspec": {
   "display_name": "Python 3",
   "language": "python",
   "name": "python3"
  },
  "language_info": {
   "codemirror_mode": {
    "name": "ipython",
    "version": 3
   },
   "file_extension": ".py",
   "mimetype": "text/x-python",
   "name": "python",
   "nbconvert_exporter": "python",
   "pygments_lexer": "ipython3",
   "version": "3.12.3"
  }
 },
 "nbformat": 4,
 "nbformat_minor": 2
}
